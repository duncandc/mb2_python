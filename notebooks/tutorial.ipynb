{
 "cells": [
  {
   "cell_type": "code",
   "execution_count": 1,
   "metadata": {},
   "outputs": [],
   "source": [
    "from __future__ import print_function, division\n",
    "import numpy as np\n",
    "import matplotlib.pyplot as plt\n",
    "%matplotlib inline"
   ]
  },
  {
   "cell_type": "markdown",
   "metadata": {},
   "source": [
    "# mb2_python Tutorial"
   ]
  },
  {
   "cell_type": "markdown",
   "metadata": {},
   "source": [
    "First, you will need to import the mb2_python package."
   ]
  },
  {
   "cell_type": "code",
   "execution_count": 13,
   "metadata": {},
   "outputs": [],
   "source": [
    "import mb2_python as mb2\n",
    "basePath = '/physics/yfeng1/mb2'"
   ]
  },
  {
   "cell_type": "markdown",
   "metadata": {},
   "source": [
    "Here, I load a random selection of particles from a snapshot using the `load_snapshot()` function."
   ]
  },
  {
   "cell_type": "code",
   "execution_count": 15,
   "metadata": {},
   "outputs": [],
   "source": [
    "def down_sample_ptcls(n_ptcls, rate=0.01):\n",
    "    \"\"\"\n",
    "    return a mask array to randomly down-sample\n",
    "    \n",
    "    Parameters\n",
    "    ----------\n",
    "    n_ptcls : int\n",
    "        number of parrticles\n",
    "    \n",
    "    rate : float\n",
    "        sampling rate--must be in the range [0,1].\n",
    "    \n",
    "    Returns\n",
    "    -------\n",
    "    mask : numpy.array\n",
    "        boolean array\n",
    "    \"\"\"\n",
    "    ran = np.random.random(n_ptcls)\n",
    "    return ran<rate"
   ]
  },
  {
   "cell_type": "code",
   "execution_count": 14,
   "metadata": {},
   "outputs": [
    {
     "name": "stdout",
     "output_type": "stream",
     "text": [
      "Could not determine file type by extension!\n"
     ]
    },
    {
     "ename": "SystemExit",
     "evalue": "",
     "output_type": "error",
     "traceback": [
      "An exception has occurred, use %tb to see the full traceback.\n",
      "\u001b[0;31mSystemExit\u001b[0m\n"
     ]
    }
   ],
   "source": [
    "snapNum = 85  # redshift 0\n",
    "partType = 1  # dark matter particles\n",
    "keys = ['x','y','z']  # coordinates\n",
    "\n",
    "x = []\n",
    "y = []\n",
    "z = []\n",
    "for chunkNum in range(1024):\n",
    "    xx, yy, xz = mb2.readSnap(basePath, snapNum, partType, fields=keys, chunkNum=chunkNum)\n",
    "    n_ptcls = len(x)\n",
    "    mask = down_sample_ptcls(n_ptcls, rate=0.01)\n",
    "    x.append(xx[mask])\n",
    "    y.append(yy[mask])\n",
    "    z.append(zz[mask])\n",
    "\n",
    "coords = np.vstack((x,y,z)).T"
   ]
  },
  {
   "cell_type": "code",
   "execution_count": 11,
   "metadata": {},
   "outputs": [],
   "source": []
  },
  {
   "cell_type": "code",
   "execution_count": null,
   "metadata": {},
   "outputs": [],
   "source": []
  }
 ],
 "metadata": {
  "kernelspec": {
   "display_name": "Python 2",
   "language": "python",
   "name": "python2"
  },
  "language_info": {
   "codemirror_mode": {
    "name": "ipython",
    "version": 2
   },
   "file_extension": ".py",
   "mimetype": "text/x-python",
   "name": "python",
   "nbconvert_exporter": "python",
   "pygments_lexer": "ipython2",
   "version": "2.7.15"
  }
 },
 "nbformat": 4,
 "nbformat_minor": 2
}
